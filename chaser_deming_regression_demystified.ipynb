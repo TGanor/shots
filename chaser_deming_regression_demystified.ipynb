{
 "cells": [
  {
   "cell_type": "code",
   "execution_count": 1,
   "metadata": {},
   "outputs": [],
   "source": [
    "import ipywidgets\n",
    "import numpy as np\n",
    "import pandas as pd\n",
    "from scipy.optimize import minimize\n",
    "import matplotlib.pyplot as plt\n",
    "import seaborn as sns\n",
    "\n",
    "sns.set_context(\"talk\")"
   ]
  },
  {
   "cell_type": "code",
   "execution_count": 2,
   "metadata": {},
   "outputs": [],
   "source": [
    "def deming_regression(x_anon, y, x_noise, y_noise):\n",
    "    data = pd.DataFrame({'x': x_anon, 'y': y})\n",
    "    x_mean = data['x'].mean()\n",
    "    y_mean = data['y'].mean()\n",
    "    cov = data.cov()\n",
    "    s_xx = cov['x']['x']\n",
    "    s_xy = cov['x']['y']\n",
    "    s_yy = cov['y']['y']\n",
    "    delta = (y_noise / x_noise) ** 2\n",
    "    slope = (\n",
    "        (s_yy - delta * s_xx + np.sqrt((s_yy - delta * s_xx) ** 2 + 4 * delta * s_xy ** 2)) /\n",
    "        (2 * s_xy)\n",
    "    )\n",
    "    intercept = y_mean - slope * x_mean\n",
    "    \n",
    "    return intercept, slope"
   ]
  },
  {
   "cell_type": "code",
   "execution_count": 3,
   "metadata": {},
   "outputs": [
    {
     "data": {
      "application/vnd.jupyter.widget-view+json": {
       "model_id": "9bdc819907ae44a0832c28c52e35148e",
       "version_major": 2,
       "version_minor": 0
      },
      "text/plain": [
       "interactive(children=(FloatSlider(value=2.0, continuous_update=False, description='x_noise', layout=Layout(wid…"
      ]
     },
     "metadata": {},
     "output_type": "display_data"
    }
   ],
   "source": [
    "np.random.seed(42)\n",
    "\n",
    "x = np.random.randint(0, 20, size=130)\n",
    "y_noise = 2\n",
    "gold_intercept = 5\n",
    "gold_slope = 1\n",
    "y = gold_intercept + gold_slope * x + np.random.normal(0, y_noise, size=x.shape)\n",
    "\n",
    "@ipywidgets.interact(\n",
    "    x_noise=ipywidgets.FloatSlider(value=2, min=0.2, max=4, step=0.05,\n",
    "                                   layout=ipywidgets.Layout(width='700px'),\n",
    "                                   continuous_update=False)\n",
    ")\n",
    "def show_deming(x_noise):\n",
    "    np.random.seed(42)\n",
    "    x_anon = x + np.random.normal(0, x_noise, size=x.shape)\n",
    "    delta = (y_noise / x_noise) ** 2\n",
    "    \n",
    "    plt.figure(figsize=(10, 10))\n",
    "    xlim = [-6, 20]\n",
    "    ylim = [0, 26]\n",
    "    plt.xlim(*xlim)\n",
    "    plt.ylim(*ylim)\n",
    "    sns.scatterplot(x=x,\n",
    "                    y=y,\n",
    "                    color='lightgray',\n",
    "                    label='private data')\n",
    "    plt.plot(xlim,\n",
    "             gold_intercept + gold_slope * np.array(xlim),\n",
    "             linestyle='--',\n",
    "             c='lightgray',\n",
    "             label='gold model')\n",
    "    sns.scatterplot(x=x_anon,\n",
    "                    y=y,\n",
    "                    color='black',\n",
    "                    zorder=9,\n",
    "                    label='noised data')\n",
    "    \n",
    "    intercept, slope = deming_regression(x_anon, y, x_noise, y_noise) \n",
    "    sns.lineplot(x=xlim,\n",
    "                 y=intercept + slope * np.array(xlim),\n",
    "                 color='dodgerblue',\n",
    "                 label='Deming')\n",
    "    \n",
    "    for idx, (x_datum, y_datum) in enumerate(zip(x_anon, y)):\n",
    "        predicted_x = minimize(\n",
    "            lambda x: (intercept + slope * x - y_datum) ** 2 + delta * (x_datum - x) ** 2,\n",
    "            x0=3\n",
    "        ).x[0]\n",
    "        plt.plot([x_datum, predicted_x],\n",
    "                 [y_datum, intercept + predicted_x * slope],\n",
    "                 color='tomato',\n",
    "                 label='error' if idx == 0 else None)\n",
    "    plt.title(f'$\\delta$ = {delta:.2f}')\n",
    "    plt.legend()"
   ]
  },
  {
   "cell_type": "code",
   "execution_count": null,
   "metadata": {},
   "outputs": [],
   "source": []
  }
 ],
 "metadata": {
  "kernelspec": {
   "display_name": "Python 3",
   "language": "python",
   "name": "python3"
  },
  "language_info": {
   "codemirror_mode": {
    "name": "ipython",
    "version": 3
   },
   "file_extension": ".py",
   "mimetype": "text/x-python",
   "name": "python",
   "nbconvert_exporter": "python",
   "pygments_lexer": "ipython3",
   "version": "3.7.0"
  }
 },
 "nbformat": 4,
 "nbformat_minor": 4
}
